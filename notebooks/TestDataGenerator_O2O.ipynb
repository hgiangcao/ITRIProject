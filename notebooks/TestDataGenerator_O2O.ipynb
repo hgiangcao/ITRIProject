{
 "cells": [
  {
   "cell_type": "code",
   "execution_count": 1,
   "id": "f884c7c2",
   "metadata": {},
   "outputs": [
    {
     "name": "stdout",
     "output_type": "stream",
     "text": [
      "scaleCmToPx 0.09598826886969584\n"
     ]
    }
   ],
   "source": [
    "%load_ext autoreload\n",
    "%autoreload 2\n",
    "import numpy as np\n",
    "from PIL import Image\n",
    "from numpy.linalg import inv\n",
    "import cv2\n",
    "import time\n",
    "\n",
    "import sys\n",
    "sys.path.insert(1, '..')\n",
    "from DON_Picking.Configuration import config,SINGLE_OBJECT_WITHIN_SCENE\n",
    "\n",
    "from DON_Training.DataGenerator_O2O import DataGenerator,loadAllModels,convertToHeatmap\n",
    "from ITRIP.objects_new import graspnet_train\n",
    "import matplotlib.pyplot as plt"
   ]
  },
  {
   "cell_type": "code",
   "execution_count": 2,
   "id": "1f45d5bf",
   "metadata": {},
   "outputs": [
    {
     "name": "stderr",
     "output_type": "stream",
     "text": [
      "100%|██████████| 28/28 [02:39<00:00,  5.71s/it]"
     ]
    },
    {
     "name": "stdout",
     "output_type": "stream",
     "text": [
      "Loaded 87 models in 159 seconds\n"
     ]
    },
    {
     "name": "stderr",
     "output_type": "stream",
     "text": [
      "\n"
     ]
    }
   ],
   "source": [
    "dataGenerator = DataGenerator()\n",
    "models, colors = loadAllModels(listObject=graspnet_train,path=\"../../dataDON/\")"
   ]
  },
  {
   "cell_type": "code",
   "execution_count": 3,
   "id": "ae326604",
   "metadata": {},
   "outputs": [
    {
     "name": "stdout",
     "output_type": "stream",
     "text": [
      "(220361, 4)\n"
     ]
    }
   ],
   "source": [
    " \n",
    "dataGenerator.setOriginalModelObjects(models, colors)\n",
    "\n",
    "#dataGenerator.resampleObjectModels()"
   ]
  },
  {
   "cell_type": "code",
   "execution_count": 243,
   "id": "e4380a94",
   "metadata": {},
   "outputs": [
    {
     "name": "stdout",
     "output_type": "stream",
     "text": [
      "type_scene 3\n",
      "0\n"
     ]
    }
   ],
   "source": [
    "nTry = 1000\n",
    "totalTime = [0,0,0,0,0]\n",
    "totalMatchPoint = [0,0,0,0,0]\n",
    "totalNonMatch = [0,0,0,0,0]\n",
    "\n",
    "type_scene  = 3\n",
    "print (\"type_scene\",type_scene)\n",
    "for i in range (1):\n",
    "    print (i)\n",
    "    start_time = time.time()\n",
    "    _,_,_,_,_,_,_,_,_,_,nMatchPoint, nNonMatchPoint = dataGenerator.generateRandomData(pathToScense=\"../../dataDON/\", sceneType=type_scene, augmentationType =0 , debug=True)\n",
    "    end_time = time.time()\n",
    "    totalTime[type_scene] += (end_time - start_time)\n",
    "    totalMatchPoint[type_scene] += nMatchPoint\n",
    "    totalNonMatch[type_scene] += nNonMatchPoint\n",
    "\n",
    "\n",
    "totalTime  = np.array(totalTime)\n",
    "totalTime = totalTime/nTry\n",
    "totalMatchPoint = np.array(totalMatchPoint)\n",
    "totalMatchPoint = totalMatchPoint/nTry\n",
    "totalNonMatch = np.array(totalNonMatch)\n",
    "totalNonMatch = totalNonMatch/nTry"
   ]
  },
  {
   "cell_type": "code",
   "execution_count": 5,
   "id": "ff9319c4",
   "metadata": {},
   "outputs": [
    {
     "name": "stdout",
     "output_type": "stream",
     "text": [
      "[0.         0.27400875 0.47369952 1.42472091 1.33350282] [0, 1, 2, 3, 4]\n"
     ]
    },
    {
     "data": {
      "image/png": "[encoded data removed]",
      "text/plain": [
       "<Figure size 720x360 with 1 Axes>"
      ]
     },
     "metadata": {
      "needs_background": "light"
     },
     "output_type": "display_data"
    },
    {
     "data": {
      "image/png": "[encoded data removed]",
      "text/plain": [
       "<Figure size 720x360 with 1 Axes>"
      ]
     },
     "metadata": {
      "needs_background": "light"
     },
     "output_type": "display_data"
    },
    {
     "data": {
      "image/png": "[encoded data removed]",
      "text/plain": [
       "<Figure size 720x360 with 1 Axes>"
      ]
     },
     "metadata": {
      "needs_background": "light"
     },
     "output_type": "display_data"
    }
   ],
   "source": [
    "\n",
    "\n",
    "\n",
    "print (totalTime,list(range(5)))\n",
    "\n",
    "fig = plt.figure(figsize = (10, 5))\n",
    "plt.bar(list(range(5)),totalTime)\n",
    "plt.show()\n",
    "\n",
    "fig = plt.figure(figsize = (10, 5))\n",
    "plt.bar(list(range(5)),totalMatchPoint)\n",
    "plt.show()\n",
    "\n",
    "fig = plt.figure(figsize = (10, 5))\n",
    "plt.bar(list(range(5)),totalNonMatch)\n",
    "plt.show()"
   ]
  },
  {
   "cell_type": "code",
   "execution_count": 67,
   "id": "d97ce6a5",
   "metadata": {},
   "outputs": [
    {
     "name": "stdout",
     "output_type": "stream",
     "text": [
      "5 11\n",
      "(256, 256, 4)\n"
     ]
    }
   ],
   "source": [
    "type_scene = 3\n",
    "start_time = time.time()\n",
    "_,_,_,_,_,_,_,_,_,_,nMatchPoint, nNonMatchPoint = dataGenerator.generateRandomData(pathToScense=\"../../dataDON/\", sceneType=type_scene, augmentationType =0 , debug=True)\n",
    "end_time = time.time()\n",
    "totalTime[type_scene] += (end_time - start_time)\n",
    "totalMatchPoint[type_scene] += nMatchPoint\n",
    "totalNonMatch[type_scene] += nNonMatchPoint"
   ]
  }
 ],
 "metadata": {
  "kernelspec": {
   "display_name": "Python 3",
   "language": "python",
   "name": "python3"
  },
  "language_info": {
   "codemirror_mode": {
    "name": "ipython",
    "version": 3
   },
   "file_extension": ".py",
   "mimetype": "text/x-python",
   "name": "python",
   "nbconvert_exporter": "python",
   "pygments_lexer": "ipython3",
   "version": "3.7.12"
  }
 },
 "nbformat": 4,
 "nbformat_minor": 5
}
