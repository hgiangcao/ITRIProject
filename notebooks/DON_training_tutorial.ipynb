{
 "cells": [
  {
   "cell_type": "code",
   "execution_count": 7,
   "id": "5c7d40c4",
   "metadata": {},
   "outputs": [
    {
     "name": "stdout",
     "output_type": "stream",
     "text": [
      "GeForce GTX 1080 Ti\n",
      "True\n",
      "The autoreload extension is already loaded. To reload it, use:\n",
      "  %reload_ext autoreload\n",
      "Successfully created the directory ../DON_Training/tensorboard/DON_GraspNet_RGBD_Resnet8 \n",
      "log path: ../DON_Training/tensorboard/DON_GraspNet_RGBD_Resnet8\n",
      "tensorboard cmd: tensorboard --logdir=../DON_Training/tensorboard/DON_GraspNet_RGBD_Resnet8\n",
      "DONE SETUP NETWORK RES-UNET\n",
      "Successfully created the directory ../DON_Training/trained_models/DON_GraspNet_RGBD_Resnet8 \n",
      "save path: ../DON_Training/trained_models/DON_GraspNet_RGBD_Resnet8\n",
      "torch.Size([2, 8, 256, 256])\n",
      "(220361, 4)\n"
     ]
    }
   ],
   "source": [
    "\n",
    "%load_ext autoreload\n",
    "%autoreload 2\n",
    "import sys\n",
    "sys.path.insert(1, '..')\n",
    "\n",
    "from ITRIP.Configuration import config\n",
    "from DON_Training.training import DONTrainer\n",
    "\n",
    "DON = DONTrainer(config = config)\n",
    "\n"
   ]
  },
  {
   "cell_type": "code",
   "execution_count": 33,
   "id": "3dc5cc05",
   "metadata": {},
   "outputs": [
    {
     "name": "stderr",
     "output_type": "stream",
     "text": [
      "\r",
      "  0%|          | 0/43500 [00:00<?, ?it/s]"
     ]
    },
    {
     "name": "stdout",
     "output_type": "stream",
     "text": [
      "Train DON. Mode: RGBD Use models: Resnet\n",
      "train 5000 iterations\n"
     ]
    },
    {
     "name": "stderr",
     "output_type": "stream",
     "text": [
      " 11%|█▏        | 5000/43500 [22:24<2:27:02,  4.36it/s]"
     ]
    },
    {
     "name": "stdout",
     "output_type": "stream",
     "text": [
      "LR: 9e-05\n",
      "Save models  ../DON_Training/trained_models/DON_GraspNet_RGBD_Resnet8/DON_5001\n"
     ]
    },
    {
     "name": "stderr",
     "output_type": "stream",
     "text": [
      "\r",
      " 11%|█▏        | 5000/43500 [22:26<2:52:47,  3.71it/s]"
     ]
    },
    {
     "name": "stdout",
     "output_type": "stream",
     "text": [
      "DONE training DON\n"
     ]
    },
    {
     "name": "stderr",
     "output_type": "stream",
     "text": [
      "\n"
     ]
    }
   ],
   "source": [
    "nIteration = 10000\n",
    "print (\"Train DON. Mode:\",config[\"inputMode\"], \"Use models:\", config[\"model\"])\n",
    "\n",
    "print (\"train\",nIteration, \"iterations\")\n",
    "       \n",
    "DON.run(nIteration=nIteration)\n",
    "\n",
    "print (\"DONE training DON\")"
   ]
  },
  {
   "cell_type": "code",
   "execution_count": 39,
   "id": "d42f5412",
   "metadata": {},
   "outputs": [
    {
     "name": "stdout",
     "output_type": "stream",
     "text": [
      "DONE SETUP NETWORK RES-UNET\n",
      "Load pretrained DON_GraspNet_RGBD_Resnet8/DON_5001\n",
      "1000 totalPoint\n",
      "DON Result single pair:\n",
      "Error Distance: 0.044904357712610254\n",
      "Accuracy: 0.922\n"
     ]
    }
   ],
   "source": [
    "from DON_Training.evaluateDON import evaluateSinglePair\n",
    "\n",
    "result  = evaluateSinglePair(\"DON_GraspNet_RGBD_Resnet8/DON_5001\",inputMode=\"RGBD\")\n",
    "\n",
    "print (\"DON Result single pair:\")\n",
    "print (\"Error Distance:\",result[0])\n",
    "print (\"Accuracy:\",result[1])"
   ]
  }
 ],
 "metadata": {
  "kernelspec": {
   "display_name": "Python 3",
   "language": "python",
   "name": "python3"
  },
  "language_info": {
   "codemirror_mode": {
    "name": "ipython",
    "version": 3
   },
   "file_extension": ".py",
   "mimetype": "text/x-python",
   "name": "python",
   "nbconvert_exporter": "python",
   "pygments_lexer": "ipython3",
   "version": "3.7.12"
  }
 },
 "nbformat": 4,
 "nbformat_minor": 5
}
